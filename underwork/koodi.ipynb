{
 "metadata": {
  "name": "",
  "signature": "sha256:23a52aa334ec89e1bdc36adaae2460f962b819e92cab517a2fce4e666d646065"
 },
 "nbformat": 3,
 "nbformat_minor": 0,
 "worksheets": [
  {
   "cells": [
    {
     "cell_type": "code",
     "collapsed": false,
     "input": [
      "import pandas as pd\n",
      "import numpy as np\n",
      "import numpy.ma as ma\n",
      "import matplotlib as pl\n",
      "import matplotlib.pyplot as plt\n",
      "import pylab\n",
      "import pickle\n",
      "from scipy.stats.stats import pearsonr\n",
      "from scipy.stats.stats import spearmanr\n",
      "from scipy.stats import mode\n"
     ],
     "language": "python",
     "metadata": {},
     "outputs": []
    },
    {
     "cell_type": "code",
     "collapsed": false,
     "input": [
      "#save_object(counts, 'distribution.pkl')\n",
      "#dist = read_object('distribution.pkl')"
     ],
     "language": "python",
     "metadata": {},
     "outputs": []
    },
    {
     "cell_type": "code",
     "collapsed": false,
     "input": [
      "def read_object(filename):\n",
      "    with open(filename, 'rb') as input:\n",
      "        return pickle.load(input)\n",
      "    \n",
      "def save_object(obj, filename):\n",
      "    with open(filename, 'wb') as output:\n",
      "        pickle.dump(obj, output, pickle.HIGHEST_PROTOCOL)"
     ],
     "language": "python",
     "metadata": {},
     "outputs": []
    },
    {
     "cell_type": "code",
     "collapsed": false,
     "input": [
      "data = pd.read_csv('c:/prob/proj/data1.txt',  sep=',', \n",
      "        encoding='utf-8-sig')\n",
      "\n",
      "training = data[:50000]\n",
      "testdata = data[50000:]\n",
      "data = np.array(training)\n",
      "testdata = np.array(testdata)"
     ],
     "language": "python",
     "metadata": {},
     "outputs": []
    },
    {
     "cell_type": "code",
     "collapsed": false,
     "input": [
      "len(data[:,0])"
     ],
     "language": "python",
     "metadata": {},
     "outputs": []
    },
    {
     "cell_type": "code",
     "collapsed": false,
     "input": [
      "def matchem(one, two):\n",
      "  found = 0\n",
      "  i=one\n",
      "  j=two\n",
      "  matching = np.zeros(shape=(len(data[:,0]),2))\n",
      "  for line in range(len(data[:,0])): # each line\n",
      "     if data[line,i]>0 and data[line,j] >0:\n",
      "        matching[found]=[data[line,i], data[line,j]]\n",
      "        found+=1\n",
      "  #print('matchem, found: ', found)\n",
      "  return matching[:found]"
     ],
     "language": "python",
     "metadata": {},
     "outputs": []
    },
    {
     "cell_type": "code",
     "collapsed": false,
     "input": [
      "a = matchem(270, 291) #279, 291, 270"
     ],
     "language": "python",
     "metadata": {},
     "outputs": []
    },
    {
     "cell_type": "code",
     "collapsed": false,
     "input": [
      "[data[1,270], data[1,291]]"
     ],
     "language": "python",
     "metadata": {},
     "outputs": []
    },
    {
     "cell_type": "code",
     "collapsed": false,
     "input": [
      "a[1]"
     ],
     "language": "python",
     "metadata": {},
     "outputs": []
    },
    {
     "cell_type": "code",
     "collapsed": false,
     "input": [
      "pearsonr(a[:,0], a[:,1])"
     ],
     "language": "python",
     "metadata": {},
     "outputs": []
    },
    {
     "cell_type": "code",
     "collapsed": false,
     "input": [
      "np.count_nonzero(data)"
     ],
     "language": "python",
     "metadata": {},
     "outputs": []
    },
    {
     "cell_type": "code",
     "collapsed": false,
     "input": [
      "#find nonzero count, mean and deviation for column\n",
      "def getinfo(col):\n",
      "  found=0  \n",
      "  summa=0\n",
      "  nonempty = np.zeros(len(data[:,0]))  \n",
      "  for line in range(len(data[:,0])):\n",
      "        if data[line,col]>0:\n",
      "           found+=1\n",
      "           nonempty[found] = data[line,col]\n",
      "            \n",
      "  if found >0:\n",
      "     mycount = found\n",
      "     mymean = np.mean(nonempty[:found])\n",
      "     mystd = np.std(nonempty[:found])\n",
      "     mymedian = np.median(nonempty[:found])\n",
      "     mymode = mode(nonempty[:found])\n",
      "     return [mycount, mymean, mystd, mymedian, mymode]\n",
      "             \n",
      "  else:\n",
      "     return [0,0,0,0,0]"
     ],
     "language": "python",
     "metadata": {},
     "outputs": []
    },
    {
     "cell_type": "code",
     "collapsed": false,
     "input": [
      "#get info of column\n",
      "mycount, mymean, mystd, mymedian, mymode =  getinfo('270')\n",
      "\n",
      "if mycount >1:\n",
      "    print('count: ',mycount)\n",
      "    print('mean: ',mymean)\n",
      "    print('std: ', mystd)\n",
      "    print('median: ', mymedian)\n",
      "    print('mode: ', mymode)\n"
     ],
     "language": "python",
     "metadata": {},
     "outputs": []
    },
    {
     "cell_type": "code",
     "collapsed": false,
     "input": [
      "a = getinfo('270')"
     ],
     "language": "python",
     "metadata": {},
     "outputs": []
    },
    {
     "cell_type": "code",
     "collapsed": false,
     "input": [
      "#find nonzero count, mean and deviation for column\n",
      "def get_colstats(data):\n",
      "  col_stats = np.zeros(shape=(303,5))\n",
      "  nonempty = np.zeros(len(data[:,0]))  \n",
      "  for col in range(303):    \n",
      "    found=0  \n",
      "    summa=0\n",
      "  \n",
      "    for line in range(len(data[:,0])):\n",
      "        if data[line,col]>0:\n",
      "           found+=1\n",
      "           nonempty[found] = data[line,col]\n",
      "            \n",
      "    if found >0:\n",
      "     col_stats[col,0] = found\n",
      "     col_stats[col,1] = np.mean(nonempty[:found])\n",
      "     col_stats[col,2] = np.std(nonempty[:found])\n",
      "     col_stats[col,3] = np.median(nonempty[:found])\n",
      "     col_stats[col,4] = np.argmax(mode(nonempty[:found]))\n",
      "        \n",
      "  return col_stats"
     ],
     "language": "python",
     "metadata": {},
     "outputs": []
    },
    {
     "cell_type": "code",
     "collapsed": false,
     "input": [
      "# get basic stats of columns, mean, std etc.\n",
      "\n",
      "col_stats = get_colstats(data)\n",
      "col_count= col_stats[:,0]\n",
      "col_mean = col_stats[:,1]    \n",
      "col_std  = col_stats[:,2]\n",
      "col_median=col_stats[:,3]\n",
      "col_mode = col_stats[:,4]\n",
      "     "
     ],
     "language": "python",
     "metadata": {},
     "outputs": []
    },
    {
     "cell_type": "code",
     "collapsed": false,
     "input": [
      "test = matchem(114,299)"
     ],
     "language": "python",
     "metadata": {},
     "outputs": []
    },
    {
     "cell_type": "code",
     "collapsed": false,
     "input": [
      "len(test[:,0])"
     ],
     "language": "python",
     "metadata": {},
     "outputs": []
    },
    {
     "cell_type": "code",
     "collapsed": false,
     "input": [
      "test = matchem(176,299)\n",
      "\n",
      "dif =0\n",
      "for i in range(len(test[:,0])):\n",
      "  dif += abs(test[i,0] - test[i,1])\n",
      "aver = dif/len(test)    \n",
      "aver"
     ],
     "language": "python",
     "metadata": {},
     "outputs": []
    },
    {
     "cell_type": "code",
     "collapsed": false,
     "input": [],
     "language": "python",
     "metadata": {},
     "outputs": []
    },
    {
     "cell_type": "code",
     "collapsed": false,
     "input": [
      "len(data[np.nonzero(data[:,299])])\n",
      "\n"
     ],
     "language": "python",
     "metadata": {},
     "outputs": []
    },
    {
     "cell_type": "code",
     "collapsed": false,
     "input": [
      "def countem(training):\n",
      "       counts = np.zeros((303,100))\n",
      "       #for line in range(len(training)):\n",
      "       for line in range(len(training)):\n",
      "          if line % 10000 ==0:\n",
      "              print(line)\n",
      "          for col in range(303):\n",
      "                x = training[line, col]\n",
      "                if x >0:\n",
      "                 counts[col, x] +=1\n",
      "       return counts"
     ],
     "language": "python",
     "metadata": {},
     "outputs": []
    },
    {
     "cell_type": "code",
     "collapsed": false,
     "input": [
      "# Base line distributions for columns by coun value x from data and / n\n",
      "def binsDist():\n",
      "# make a distribution from table of counted numbers in data\n",
      "# count total n of a column, add \\little\\ to n, each column is count(col)/n+little\n",
      "# columns with 0 get little divided by them. if 41 might get, close to 0 smaller, how to distribute? maybe a minor thing\n",
      "     \n",
      " dist = np.zeros((303,100))\n",
      "      \n",
      " for col in range((len(counts))):\n",
      "    total=0\n",
      "    for value in range(100):\n",
      "          total += counts[col][value]\n",
      "          total +=0.01\n",
      "    emptycols = 100- np.count_nonzero(counts[col][:])\n",
      "    smoothing = 0.01 / emptycols\n",
      "          #print(total)\n",
      "    #for col in range((len(counts))):\n",
      "    for value in range(100):\n",
      "         if counts[col][value] > 0:\n",
      "             dist[col][value] = counts[col][value] / total\n",
      "         else: dist[col][value] = smoothing\n",
      " return dist"
     ],
     "language": "python",
     "metadata": {},
     "outputs": []
    },
    {
     "cell_type": "code",
     "collapsed": false,
     "input": [
      "%time counts =countem(data)\n"
     ],
     "language": "python",
     "metadata": {},
     "outputs": []
    },
    {
     "cell_type": "code",
     "collapsed": false,
     "input": [
      "binsdist = binsDist()\n",
      "binsdist"
     ],
     "language": "python",
     "metadata": {},
     "outputs": []
    },
    {
     "cell_type": "code",
     "collapsed": false,
     "input": [
      "#Pearson correlations between column pairs\n",
      "def correlation():\n",
      " #correlations\n",
      " #all_matches =np.zeros(shape=(303,303))    \n",
      " correlations = np.zeros(shape=(303,3))\n",
      " for i in range(303):\n",
      "    correlations[i,2]=i\n",
      " matching = np.zeros(shape=(len(data[:,1]),2))\n",
      "\n",
      " #for i in range(290, len(data[1])):  #for column\n",
      " i=299\n",
      "\n",
      " #for j in range(len(data[1])): # compare to each other column,\n",
      " #for j in range((len(data[0]))): # compare to each other column    \n",
      "\n",
      "\n",
      " for j in range(len(data[0])): # compare to each other column            \n",
      "     #j=1\n",
      "     found=0\n",
      "     for line in range(i, len(data[:,0])): # each value in column,\n",
      "          if i!=j and data[line,i]>0 and data[line,j] >0:                #i!=j fixed to i<j  check if ok\n",
      "               matching[found]=[data[line,i], data[line,j]]\n",
      "               found+=1\n",
      "     # limit - how many comparisons required              \n",
      "     if found>100:\n",
      "        # count pearson\n",
      "        cut = matching[:found]\n",
      "        \n",
      "        \n",
      "        #cor = pearsonr(cut[:,0], cut[:,1])\n",
      "        cor = spearmanr(cut[:,0], cut[:,1])\n",
      "        \n",
      "        if (cor[0]>0.5 and cor[1]< 0.01):\n",
      "          correlations[j,:2]=cor\n",
      "          #correlations[j,2]=i\n",
      "\n",
      "          if cor[0]==1: \n",
      "            print('cor 1 ',j)\n",
      "          #print('i:',i,' j:',j)                 \n",
      "          #print(cor)\n",
      "          #print('found: ',found)\n",
      " #corsorted = nympy.sort(correlations)\n",
      "            \n",
      " return correlations"
     ],
     "language": "python",
     "metadata": {},
     "outputs": []
    },
    {
     "cell_type": "code",
     "collapsed": false,
     "input": [
      " %time correlations = correlation()\n",
      " best = np.argmax(correlations[:,0])\n",
      "    \n",
      " new = correlations[correlations[:,0].argsort()][::-1]\n",
      " correlations = new"
     ],
     "language": "python",
     "metadata": {},
     "outputs": []
    },
    {
     "cell_type": "code",
     "collapsed": false,
     "input": [
      "best"
     ],
     "language": "python",
     "metadata": {},
     "outputs": []
    },
    {
     "cell_type": "code",
     "collapsed": false,
     "input": [
      "def estimateCol(correlations, inputdata, col):\n",
      " \n",
      " \n",
      " #best = 114   \n",
      " best = np.argmax(correlations[:,0])    \n",
      " \n",
      " # if no value in current line that matches correlating col, fallback \n",
      " dist = binsdist[col]\n",
      " \n",
      " return dist\n",
      "    \n",
      "    \n",
      "    "
     ],
     "language": "python",
     "metadata": {},
     "outputs": []
    },
    {
     "cell_type": "code",
     "collapsed": false,
     "input": [
      "dist = estimateCol(correlations, inputdata, 299)\n",
      "dist"
     ],
     "language": "python",
     "metadata": {},
     "outputs": []
    },
    {
     "cell_type": "code",
     "collapsed": false,
     "input": [
      "inputdata = np.zeros(shape=(303, 2000))\n",
      "\n",
      "#col = 298\n",
      "totalscore =0\n",
      "totalcount =0\n",
      "# add range\n",
      "for col in (299,299):\n",
      "     testcol = testdata[:2000,col]\n",
      "     inputdata[col]=testcol\n",
      "\n",
      "     diff= 0\n",
      "     summa=0\n",
      "     count=0\n",
      "     for i in range(len(testcol)):\n",
      "        if testcol[i] >0:\n",
      "            # for each row, find best distribution for column with that rows values\n",
      "            dist = estimateCol(correlations, inputdata, col)\n",
      "            #print(testcol[i],' est:', dist[testcol[i]] )\n",
      "            summa +=dist[testcol[i]]\n",
      "            count +=1\n",
      "     if count >0:        \n",
      "       #print('Average: ', summa/count)        \n",
      "       totalscore += summa/count    \n",
      "       totalcount +=1\n",
      "     else:\n",
      "       #print('No value at col ',col)\n",
      "       1==1             \n",
      "print('Average over sample: ', totalscore/ totalcount)"
     ],
     "language": "python",
     "metadata": {},
     "outputs": []
    },
    {
     "cell_type": "code",
     "collapsed": false,
     "input": [
      " testcol = testdata[:2000,col]"
     ],
     "language": "python",
     "metadata": {},
     "outputs": []
    },
    {
     "cell_type": "code",
     "collapsed": false,
     "input": [
      "np.nonzero(testdata[:2000,0])"
     ],
     "language": "python",
     "metadata": {},
     "outputs": []
    },
    {
     "cell_type": "code",
     "collapsed": false,
     "input": [
      "test = matchem(114,299)"
     ],
     "language": "python",
     "metadata": {},
     "outputs": []
    },
    {
     "cell_type": "code",
     "collapsed": false,
     "input": [
      "z = np.polyfit(matches[0], matches[1], 5) "
     ],
     "language": "python",
     "metadata": {},
     "outputs": []
    },
    {
     "cell_type": "code",
     "collapsed": false,
     "input": [
      "matches = matchem(114,299)"
     ],
     "language": "python",
     "metadata": {},
     "outputs": []
    },
    {
     "cell_type": "code",
     "collapsed": false,
     "input": [
      "#Fit a polynomial p(x) = p[0] * x**deg + ... + p[deg] of degree deg to points (x, y).\n",
      "#Returns a vector of coefficients p that minimises the squared error.\n",
      "\n",
      "#numpy.polyfit(x, y, deg, rcond=None, full=False)     #Least squares polynomial fit.\n",
      "res = np.polyfit(matches[:,0], matches[:,1], 3, rcond=None, full=False)"
     ],
     "language": "python",
     "metadata": {},
     "outputs": []
    },
    {
     "cell_type": "code",
     "collapsed": false,
     "input": [
      "res"
     ],
     "language": "python",
     "metadata": {},
     "outputs": []
    },
    {
     "cell_type": "code",
     "collapsed": false,
     "input": [
      "def mypoly(x, res):\n",
      "  result = res[0]*x**3 + res[1]*x**2 + res[2]*x**1 +res[3]\n",
      "  print(result)\n",
      "  return result"
     ],
     "language": "python",
     "metadata": {},
     "outputs": []
    },
    {
     "cell_type": "code",
     "collapsed": false,
     "input": [
      "col_std[299]"
     ],
     "language": "python",
     "metadata": {},
     "outputs": []
    },
    {
     "cell_type": "code",
     "collapsed": false,
     "input": [
      "mypoly(77, res)"
     ],
     "language": "python",
     "metadata": {},
     "outputs": []
    },
    {
     "cell_type": "code",
     "collapsed": false,
     "input": [
      "matches = matchem(114,299)\n",
      "for i in range(6):\n",
      "  if matches[i,0] == 77:\n",
      "    print(matches[i])"
     ],
     "language": "python",
     "metadata": {},
     "outputs": []
    },
    {
     "cell_type": "code",
     "collapsed": false,
     "input": [
      "#try final distribution - polyfit\n",
      " bins = np.zeros(size=(100,100))  #col x, value 0-99  \n",
      "\n",
      "    \n",
      " polyresult= np.zers(100)\n",
      " differs = np.zers(100)   \n",
      " #for i in range(len(data[0])): # compare to each other column,\n",
      "  i =299      \n",
      "   for j in range(i,(len(data[0]))): # compare to each other column    \n",
      "      matches = matchem(i,j)\n",
      "            \n",
      "      #numpy.polyfit(x, y, deg, rcond=None, full=False)     #Least squares polynomial fit.\n",
      "      res = np.polyfit(matches[:,0], matches[:,1], 3, rcond=None, full=False)\n",
      "      diff=0           \n",
      "      for line in range(len(matches)):             # see how i estimates j\n",
      "         polyresult[line] = mypoly(matches[line,0], res)\n",
      "         differs[line]= (polyresult[line] - matches[line,1]) \n",
      "  \n",
      "                    "
     ],
     "language": "python",
     "metadata": {},
     "outputs": []
    },
    {
     "cell_type": "code",
     "collapsed": false,
     "input": [
      "#try final distribution full bin count\n",
      "\n",
      "from scipy.sparse import lil_matrix\n",
      "#A = lil_matrix(303, 303)\n",
      "A= np.empty([303, 303],dtype=dict)\n",
      "#empty([2, 2], dtype=int)\n",
      "#np.ones((100,), dtype=bool)\n",
      "# 303 * 303/2 = 40.000 col pairs. for each 100x100 value pairs = 10.000. 40k * 10k = 40M\n",
      "#    dict \n",
      "\n",
      "  \n",
      "    \n",
      "# estimator = np.zeros(size=303,303, 100, 100)\n",
      "bins = np.zeros(shape=(100,100))  #col x, value 0-99  \n",
      "toset = np.zeros(shape=(100,2)) #target yvalue, yprob\n",
      "\n",
      "#for i in range(len(data[0])): # compare to each other column,\n",
      "for i in range(0, 298):\n",
      "\n",
      "   if i % 30 ==0:\n",
      "     print(i)\n",
      "   #for j in range(i,(len(data[0]))): # compare to each other column   \n",
      "   j=299 #remove this\n",
      "   if i<j:   \n",
      "      matches = matchem(i,j)\n",
      "      count=0 \n",
      "      for line in range(len(matches)):             \n",
      "          bins[matches[line,0], matches[line,1]] +=1      #bin 77,75 +=1 or 77,79+=1 etc.\n",
      "      count=len(matches[:,0])      \n",
      "     \n",
      "      if count>20:  #handle counts in bin 75 -> {76,77}\n",
      "                \n",
      "         #level3 dict\n",
      "         level3 = {}\n",
      "         \n",
      "         #for val in bins[np.nonzero(bins[:,0])]:\n",
      "         for row in range(100):\n",
      "             totalcount = np.sum(bins[row,:])\n",
      "             #print(row)\n",
      "             # create a struct for right side of 75 -> 75,76,77,78,89                        \n",
      "             key = row\n",
      "                    \n",
      "             #create struct yvalue, prop(yvalue)        \n",
      "             level4 = set([])\n",
      "             myset = level4\n",
      "                    \n",
      "             for col in range(100):\n",
      "                 if bins[row,col] !=0:\n",
      "                   mytuple = (col, (bins[row,col]/totalcount))             \n",
      "                   myset.add(mytuple)\n",
      "                   mycopy=set.copy(myset)\n",
      "                   level3[row]=mycopy\n",
      "       \n",
      "                            \n",
      "         A[i,j] = level3    \n"
     ],
     "language": "python",
     "metadata": {},
     "outputs": []
    },
    {
     "cell_type": "code",
     "collapsed": false,
     "input": [
      "input = testdata[0]\n",
      "output = np.zeros(shape=(100,1))"
     ],
     "language": "python",
     "metadata": {},
     "outputs": []
    },
    {
     "cell_type": "code",
     "collapsed": false,
     "input": [
      "j=299\n",
      "for x in range(0,j):\n",
      "    if input[x]>0:\n",
      "        if not (A[i,j] is None):\n",
      "           if not (A[i,j][test[col]] is None):\n",
      "              print (A[i,j][test[col]])"
     ],
     "language": "python",
     "metadata": {},
     "outputs": []
    },
    {
     "cell_type": "code",
     "collapsed": false,
     "input": [
      "#handle input line\n",
      "for x in range (len(input)):\n",
      "    #estimate distribution for x\n",
      "    \n",
      "    #check if earlier values exist, and their columns\n",
      "    # order for best correlations for each col\n",
      "\n",
      " #fallback\n",
      " dist = binsdist[col]   \n"
     ],
     "language": "python",
     "metadata": {},
     "outputs": []
    },
    {
     "cell_type": "code",
     "collapsed": false,
     "input": [
      "def estimateCol(correlations, inputdata, col):\n",
      " \n",
      " \n",
      " #best = 114   \n",
      " best = np.argmax(correlations[:,0])    \n",
      " \n",
      " # if no value in current line that matches correlating col, fallback \n",
      " dist = binsdist[col]\n",
      " \n",
      " return dist\n",
      "    "
     ],
     "language": "python",
     "metadata": {},
     "outputs": []
    }
   ],
   "metadata": {}
  }
 ]
}